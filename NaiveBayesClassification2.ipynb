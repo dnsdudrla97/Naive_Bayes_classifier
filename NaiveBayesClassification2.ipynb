{
  "nbformat": 4,
  "nbformat_minor": 0,
  "metadata": {
    "kernelspec": {
      "display_name": "Python 3",
      "language": "python",
      "name": "python3"
    },
    "language_info": {
      "codemirror_mode": {
        "name": "ipython",
        "version": 3
      },
      "file_extension": ".py",
      "mimetype": "text/x-python",
      "name": "python",
      "nbconvert_exporter": "python",
      "pygments_lexer": "ipython3",
      "version": "3.6.8"
    },
    "varInspector": {
      "cols": {
        "lenName": 16,
        "lenType": 16,
        "lenVar": 40
      },
      "kernels_config": {
        "python": {
          "delete_cmd_postfix": "",
          "delete_cmd_prefix": "del ",
          "library": "var_list.py",
          "varRefreshCmd": "print(var_dic_list())"
        },
        "r": {
          "delete_cmd_postfix": ") ",
          "delete_cmd_prefix": "rm(",
          "library": "var_list.r",
          "varRefreshCmd": "cat(var_dic_list()) "
        }
      },
      "types_to_exclude": [
        "module",
        "function",
        "builtin_function_or_method",
        "instance",
        "_Feature"
      ],
      "window_display": false
    },
    "colab": {
      "name": "NaiveBayesClassification.ipynb",
      "provenance": [],
      "collapsed_sections": [],
      "toc_visible": true,
      "include_colab_link": true
    }
  },
  "cells": [
    {
      "cell_type": "markdown",
      "metadata": {
        "id": "view-in-github",
        "colab_type": "text"
      },
      "source": [
        "<a href=\"https://colab.research.google.com/github/dnsdudrla97/Naive_Bayes_classifier/blob/master/NaiveBayesClassification2.ipynb\" target=\"_parent\"><img src=\"https://colab.research.google.com/assets/colab-badge.svg\" alt=\"Open In Colab\"/></a>"
      ]
    },
    {
      "cell_type": "markdown",
      "metadata": {
        "id": "rzBFSuUJ3k27",
        "colab_type": "text"
      },
      "source": [
        "<!--NAVIGATION-->\n",
        "\n",
        "\n",
        "<a href=\"https://colab.research.google.com/github/saskeli/x/blob/master/bayes.ipynb\"><img align=\"left\" src=\"https://colab.research.google.com/assets/colab-badge.svg\" alt=\"Open in Colab\" title=\"Open and Execute in Google Colaboratory\"></a>\n",
        "\n",
        "|                                       -                                       |                                       -                                       |                                       -                                       |\n",
        "|-------------------------------------------------------------------------------|-------------------------------------------------------------------------------|-------------------------------------------------------------------------------|\n",
        "|  [Exercise 1 (blob classification)](<#Exercise-1-(blob-classification&#41;>)  | [Exercise 2 (plant classification)](<#Exercise-2-(plant-classification&#41;>) |  [Exercise 3 (word classification)](<#Exercise-3-(word-classification&#41;>)  |\n",
        "|       [Exercise 4 (spam detection)](<#Exercise-4-(spam-detection&#41;>)       |                                                                               |                                                                               |\n",
        "\n"
      ]
    },
    {
      "cell_type": "markdown",
      "metadata": {
        "id": "NIS_qQN13k27",
        "colab_type": "text"
      },
      "source": [
        "## ML: Naive Bayes classification"
      ]
    },
    {
      "cell_type": "markdown",
      "metadata": {
        "id": "TrLX66WE3k28",
        "colab_type": "text"
      },
      "source": [
        "분류는지도 학습의 한 형태입니다. 목표는 모든 데이터 포인트에 레이블을 달아주는 것입니다. 같은 라벨을 가진 포인트는 같은 클래스에 속합니다. 레이블이 두 개 이상있을 수 있습니다. 예를 들어, 생명체는 동물, 식물, 곰팡이, 고세균, 박테리아, 원생 동물 및 염색체 레이블로 (거칠게) 분류 될 수 있습니다. 데이터 포인트에는 레이블을 예측하는 데 사용할 수있는 특정 기능이 있습니다. 예를 들어 깃털이면 동물 일 가능성이 높습니다.\n",
        "\n",
        "지도 학습에서 알고리즘에는 먼저 기능과 레이블이있는 학습 데이터 세트가 제공됩니다. 그런 다음 알고리즘은 이러한 기능을 학습하고 (확률 적) 모델에 레이블을 지정합니다.이 모델은 나중에 볼 수없는 데이터의 레이블을 예측하는 데 사용할 수 있습니다.\n",
        "\n",
        "Naive Bayes 분류는 빠르고 이해하기 쉬운 분류 방법입니다. 속도는 기본 확률 분포, 즉 기능의 독립성에 대한 가정에 대한 일부 단순화로 인해 발생합니다. 그러나 특히 데이터에 충분한 기능이있는 경우 매우 강력 할 수 있습니다.\n",
        "\n",
        "각 레이블 L에 확률 분포가 있다고 가정합니다. 이 분포는 각 가능한 피처 조합 (피처 벡터)에 대한 확률을 제공합니다.\n",
        "\n",
        "$$P(features | L).$$\n",
        "\n",
        "베이지안 분류의 주요 아이디어는 의존 방향을 반대로하는 것입니다. 우리는 특징에 따라 레이블을 예측하려고합니다.\n",
        "\n",
        "$$P(L | features)$$\n",
        "\n",
        "\n",
        "$$P(L | features) = \\frac{P(features | L)P(L)}{P(features)}.$$\n",
        "\n",
        "L1 및 L2 및 관련 분포에 $ P (featrues | L1) $ 및 $ P (featrues | L2) $ 레이블을 지정해야한다고 가정 해 봅시다. 레이블이 모르는 \"featrues\"이 포함 된 데이터 요소가있는 경우 사후 확률의 비율을 사용하여 예측할 수 있습니다.\n",
        "$$\\frac{P(L1 | features)}{P(L2 | features)} = \\frac{P(features | L1)P(L1)}{P(features | L2)P(L2)}.$$\n",
        "\n",
        "비율이 1보다 크면 데이터 요소에 레이블 L1을 레이블하고 레이블이 없으면 레이블 L2를 지정합니다.\n",
        "레이블의 사전 확률 P (L1) 및 P (L2)는 레이블이있는 각 데이터 포인트에 대해 입력 데이터에서 쉽게 찾을 수 있습니다. 레이블에 지정된 기능의 확률도 마찬가지입니다."
      ]
    },
    {
      "cell_type": "markdown",
      "metadata": {
        "id": "zbpBev7I3k28",
        "colab_type": "text"
      },
      "source": [
        "먼저 가우시안 분포를 사용하여 순진 베이 즈 분류를 시연합니다."
      ]
    },
    {
      "cell_type": "code",
      "metadata": {
        "id": "AeJdOa1H3k29",
        "colab_type": "code",
        "colab": {}
      },
      "source": [
        "import numpy as np\n",
        "import seaborn as sns\n",
        "import matplotlib.pyplot as plt\n",
        "import pandas as pd"
      ],
      "execution_count": 0,
      "outputs": []
    },
    {
      "cell_type": "code",
      "metadata": {
        "id": "z_Qhjxan3k3A",
        "colab_type": "code",
        "outputId": "0b13d26d-3c6f-46e1-97fe-6653b901c8a7",
        "colab": {
          "base_uri": "https://localhost:8080/",
          "height": 269
        }
      },
      "source": [
        "from sklearn.datasets import make_blobs\n",
        "X,y = make_blobs(100, 2, centers=2, random_state=2, cluster_std=1.5)\n",
        "colors=np.array([\"green\", \"pink\"])\n",
        "plt.scatter(X[:, 0], X[:, 1], c=colors[y], s=50)\n",
        "for label, c in enumerate(colors):\n",
        "    plt.scatter([], [], c=c, label=str(label))\n",
        "plt.legend();\n",
        "plt.colorbar();"
      ],
      "execution_count": 27,
      "outputs": [
        {
          "output_type": "display_data",
          "data": {
            "image/png": "[encoded data removed]",
            "text/plain": [
              "<Figure size 432x288 with 2 Axes>"
            ]
          },
          "metadata": {
            "tags": [],
            "needs_background": "light"
          }
        }
      ]
    },
    {
      "cell_type": "code",
      "metadata": {
        "id": "mLZTeW3F3k3C",
        "colab_type": "code",
        "colab": {}
      },
      "source": [
        "from sklearn.naive_bayes import GaussianNB\n",
        "from sklearn.naive_bayes import MultinomialNB\n",
        "model = GaussianNB()\n",
        "#model = MultinomialNB()\n",
        "model.fit(X, y);"
      ],
      "execution_count": 0,
      "outputs": []
    },
    {
      "cell_type": "markdown",
      "metadata": {
        "id": "QBXD48kL3k3E",
        "colab_type": "text"
      },
      "source": [
        "Naive Bayes 알고리즘은 데이터에 2 개의 2 차원 가우스 분포를 적용했습니다. 평균과 분산은 이러한 분포를 완전히 정의합니다."
      ]
    },
    {
      "cell_type": "code",
      "metadata": {
        "id": "-5Kvtzv13k3F",
        "colab_type": "code",
        "outputId": "128cfd29-d3f9-46bf-816f-116e59e2f9f2",
        "colab": {
          "base_uri": "https://localhost:8080/",
          "height": 181
        }
      },
      "source": [
        "print(\"Means:\", model.theta_)\n",
        "print(\"Standard deviations:\", model.sigma_)"
      ],
      "execution_count": 13,
      "outputs": [
        {
          "output_type": "error",
          "ename": "AttributeError",
          "evalue": "ignored",
          "traceback": [
            "\u001b[0;31m---------------------------------------------------------------------------\u001b[0m",
            "\u001b[0;31mAttributeError\u001b[0m                            Traceback (most recent call last)",
            "\u001b[0;32m<ipython-input-13-d0ecd7f4c38a>\u001b[0m in \u001b[0;36m<module>\u001b[0;34m()\u001b[0m\n\u001b[0;32m----> 1\u001b[0;31m \u001b[0mprint\u001b[0m\u001b[0;34m(\u001b[0m\u001b[0;34m\"Means:\"\u001b[0m\u001b[0;34m,\u001b[0m \u001b[0mmodel\u001b[0m\u001b[0;34m.\u001b[0m\u001b[0mtheta_\u001b[0m\u001b[0;34m)\u001b[0m\u001b[0;34m\u001b[0m\u001b[0;34m\u001b[0m\u001b[0m\n\u001b[0m\u001b[1;32m      2\u001b[0m \u001b[0mprint\u001b[0m\u001b[0;34m(\u001b[0m\u001b[0;34m\"Standard deviations:\"\u001b[0m\u001b[0;34m,\u001b[0m \u001b[0mmodel\u001b[0m\u001b[0;34m.\u001b[0m\u001b[0msigma_\u001b[0m\u001b[0;34m)\u001b[0m\u001b[0;34m\u001b[0m\u001b[0;34m\u001b[0m\u001b[0m\n",
            "\u001b[0;31mAttributeError\u001b[0m: 'Pipeline' object has no attribute 'theta_'"
          ]
        }
      ]
    },
    {
      "cell_type": "markdown",
      "metadata": {
        "id": "qvfje9JX3k3H",
        "colab_type": "text"
      },
      "source": [
        "이 분포를 그려 봅시다. 먼저 origo에서 각 방향으로 표준 편차를 제공하는 타원을 그리는 도우미 함수를 정의합니다.\n"
      ]
    },
    {
      "cell_type": "code",
      "metadata": {
        "id": "yVlOSgj83k3H",
        "colab_type": "code",
        "colab": {}
      },
      "source": [
        "def plot_ellipse(ax, mu, sigma, color=\"k\", label=None):\n",
        "    \"\"\"\n",
        "    Based on\n",
        "    http://stackoverflow.com/questions/17952171/not-sure-how-to-fit-data-with-a-gaussian-python.\n",
        "    \"\"\"\n",
        "    from matplotlib.patches import Ellipse\n",
        "    # Compute eigenvalues and associated eigenvectors\n",
        "    vals, vecs = np.linalg.eigh(sigma)\n",
        "\n",
        "    # Compute \"tilt\" of ellipse using first eigenvector\n",
        "    x, y = vecs[:, 0]\n",
        "    theta = np.degrees(np.arctan2(y, x))\n",
        "\n",
        "    # Eigenvalues give length of ellipse along each eigenvector\n",
        "    w, h = 2 * np.sqrt(vals)\n",
        "\n",
        "    ax.tick_params(axis='both', which='major', labelsize=20)\n",
        "    ellipse = Ellipse(mu, w, h, theta, color=color, label=label)  # color=\"k\")\n",
        "    ellipse.set_clip_box(ax.bbox)\n",
        "    ellipse.set_alpha(0.2)\n",
        "    ax.add_artist(ellipse)\n",
        "    return ellipse"
      ],
      "execution_count": 0,
      "outputs": []
    },
    {
      "cell_type": "markdown",
      "metadata": {
        "id": "gbdg-QPw3k3J",
        "colab_type": "text"
      },
      "source": [
        "그런 다음 실제 플로팅을 수행합니다.\n"
      ]
    },
    {
      "cell_type": "code",
      "metadata": {
        "id": "1omWg2ZY3k3K",
        "colab_type": "code",
        "outputId": "6d5cd59c-1270-49b2-a02d-bb8f88be0e32",
        "colab": {
          "base_uri": "https://localhost:8080/",
          "height": 232
        }
      },
      "source": [
        "plt.figure()\n",
        "plt.xlim(-5, 5)\n",
        "plt.ylim(-15, 5)\n",
        "plot_ellipse(plt.gca(), model.theta_[0], np.identity(2)*model.sigma_[0], color=\"red\")\n",
        "plot_ellipse(plt.gca(), model.theta_[1], np.identity(2)*model.sigma_[1], color=\"blue\");"
      ],
      "execution_count": 12,
      "outputs": [
        {
          "output_type": "error",
          "ename": "NameError",
          "evalue": "ignored",
          "traceback": [
            "\u001b[0;31m---------------------------------------------------------------------------\u001b[0m",
            "\u001b[0;31mNameError\u001b[0m                                 Traceback (most recent call last)",
            "\u001b[0;32m<ipython-input-12-30a1c1151361>\u001b[0m in \u001b[0;36m<module>\u001b[0;34m()\u001b[0m\n\u001b[0;32m----> 1\u001b[0;31m \u001b[0mplt\u001b[0m\u001b[0;34m.\u001b[0m\u001b[0mfigure\u001b[0m\u001b[0;34m(\u001b[0m\u001b[0;34m)\u001b[0m\u001b[0;34m\u001b[0m\u001b[0;34m\u001b[0m\u001b[0m\n\u001b[0m\u001b[1;32m      2\u001b[0m \u001b[0mplt\u001b[0m\u001b[0;34m.\u001b[0m\u001b[0mxlim\u001b[0m\u001b[0;34m(\u001b[0m\u001b[0;34m-\u001b[0m\u001b[0;36m5\u001b[0m\u001b[0;34m,\u001b[0m \u001b[0;36m5\u001b[0m\u001b[0;34m)\u001b[0m\u001b[0;34m\u001b[0m\u001b[0;34m\u001b[0m\u001b[0m\n\u001b[1;32m      3\u001b[0m \u001b[0mplt\u001b[0m\u001b[0;34m.\u001b[0m\u001b[0mylim\u001b[0m\u001b[0;34m(\u001b[0m\u001b[0;34m-\u001b[0m\u001b[0;36m15\u001b[0m\u001b[0;34m,\u001b[0m \u001b[0;36m5\u001b[0m\u001b[0;34m)\u001b[0m\u001b[0;34m\u001b[0m\u001b[0;34m\u001b[0m\u001b[0m\n\u001b[1;32m      4\u001b[0m \u001b[0mplot_ellipse\u001b[0m\u001b[0;34m(\u001b[0m\u001b[0mplt\u001b[0m\u001b[0;34m.\u001b[0m\u001b[0mgca\u001b[0m\u001b[0;34m(\u001b[0m\u001b[0;34m)\u001b[0m\u001b[0;34m,\u001b[0m \u001b[0mmodel\u001b[0m\u001b[0;34m.\u001b[0m\u001b[0mtheta_\u001b[0m\u001b[0;34m[\u001b[0m\u001b[0;36m0\u001b[0m\u001b[0;34m]\u001b[0m\u001b[0;34m,\u001b[0m \u001b[0mnp\u001b[0m\u001b[0;34m.\u001b[0m\u001b[0midentity\u001b[0m\u001b[0;34m(\u001b[0m\u001b[0;36m2\u001b[0m\u001b[0;34m)\u001b[0m\u001b[0;34m*\u001b[0m\u001b[0mmodel\u001b[0m\u001b[0;34m.\u001b[0m\u001b[0msigma_\u001b[0m\u001b[0;34m[\u001b[0m\u001b[0;36m0\u001b[0m\u001b[0;34m]\u001b[0m\u001b[0;34m,\u001b[0m \u001b[0mcolor\u001b[0m\u001b[0;34m=\u001b[0m\u001b[0;34m\"red\"\u001b[0m\u001b[0;34m)\u001b[0m\u001b[0;34m\u001b[0m\u001b[0;34m\u001b[0m\u001b[0m\n\u001b[1;32m      5\u001b[0m \u001b[0mplot_ellipse\u001b[0m\u001b[0;34m(\u001b[0m\u001b[0mplt\u001b[0m\u001b[0;34m.\u001b[0m\u001b[0mgca\u001b[0m\u001b[0;34m(\u001b[0m\u001b[0;34m)\u001b[0m\u001b[0;34m,\u001b[0m \u001b[0mmodel\u001b[0m\u001b[0;34m.\u001b[0m\u001b[0mtheta_\u001b[0m\u001b[0;34m[\u001b[0m\u001b[0;36m1\u001b[0m\u001b[0;34m]\u001b[0m\u001b[0;34m,\u001b[0m \u001b[0mnp\u001b[0m\u001b[0;34m.\u001b[0m\u001b[0midentity\u001b[0m\u001b[0;34m(\u001b[0m\u001b[0;36m2\u001b[0m\u001b[0;34m)\u001b[0m\u001b[0;34m*\u001b[0m\u001b[0mmodel\u001b[0m\u001b[0;34m.\u001b[0m\u001b[0msigma_\u001b[0m\u001b[0;34m[\u001b[0m\u001b[0;36m1\u001b[0m\u001b[0;34m]\u001b[0m\u001b[0;34m,\u001b[0m \u001b[0mcolor\u001b[0m\u001b[0;34m=\u001b[0m\u001b[0;34m\"blue\"\u001b[0m\u001b[0;34m)\u001b[0m\u001b[0;34m;\u001b[0m\u001b[0;34m\u001b[0m\u001b[0;34m\u001b[0m\u001b[0m\n",
            "\u001b[0;31mNameError\u001b[0m: name 'plt' is not defined"
          ]
        }
      ]
    },
    {
      "cell_type": "markdown",
      "metadata": {
        "id": "y-otSkDz3k3M",
        "colab_type": "text"
      },
      "source": [
        "* 정확도 점수 *는 라벨을 얼마나 잘 예측했는지 측정합니다. 최대 값은 1.0입니다."
      ]
    },
    {
      "cell_type": "code",
      "metadata": {
        "id": "fGn6_Ikc3k3M",
        "colab_type": "code",
        "colab": {
          "base_uri": "https://localhost:8080/",
          "height": 215
        },
        "outputId": "7d344636-2df6-4810-c55f-8a4f425539f3"
      },
      "source": [
        "from sklearn.metrics import accuracy_score\n",
        "y_fitted = model.predict(X)\n",
        "acc=accuracy_score(y,y_fitted)\n",
        "print(\"Accuracy score is\", acc)"
      ],
      "execution_count": 9,
      "outputs": [
        {
          "output_type": "error",
          "ename": "NameError",
          "evalue": "ignored",
          "traceback": [
            "\u001b[0;31m---------------------------------------------------------------------------\u001b[0m",
            "\u001b[0;31mNameError\u001b[0m                                 Traceback (most recent call last)",
            "\u001b[0;32m<ipython-input-9-c1ac4b908e73>\u001b[0m in \u001b[0;36m<module>\u001b[0;34m()\u001b[0m\n\u001b[1;32m      1\u001b[0m \u001b[0;32mfrom\u001b[0m \u001b[0msklearn\u001b[0m\u001b[0;34m.\u001b[0m\u001b[0mmetrics\u001b[0m \u001b[0;32mimport\u001b[0m \u001b[0maccuracy_score\u001b[0m\u001b[0;34m\u001b[0m\u001b[0;34m\u001b[0m\u001b[0m\n\u001b[0;32m----> 2\u001b[0;31m \u001b[0my_fitted\u001b[0m \u001b[0;34m=\u001b[0m \u001b[0mmodel\u001b[0m\u001b[0;34m.\u001b[0m\u001b[0mpredict\u001b[0m\u001b[0;34m(\u001b[0m\u001b[0mX\u001b[0m\u001b[0;34m)\u001b[0m\u001b[0;34m\u001b[0m\u001b[0;34m\u001b[0m\u001b[0m\n\u001b[0m\u001b[1;32m      3\u001b[0m \u001b[0macc\u001b[0m\u001b[0;34m=\u001b[0m\u001b[0maccuracy_score\u001b[0m\u001b[0;34m(\u001b[0m\u001b[0my\u001b[0m\u001b[0;34m,\u001b[0m\u001b[0my_fitted\u001b[0m\u001b[0;34m)\u001b[0m\u001b[0;34m\u001b[0m\u001b[0;34m\u001b[0m\u001b[0m\n\u001b[1;32m      4\u001b[0m \u001b[0mprint\u001b[0m\u001b[0;34m(\u001b[0m\u001b[0;34m\"Accuracy score is\"\u001b[0m\u001b[0;34m,\u001b[0m \u001b[0macc\u001b[0m\u001b[0;34m)\u001b[0m\u001b[0;34m\u001b[0m\u001b[0;34m\u001b[0m\u001b[0m\n",
            "\u001b[0;31mNameError\u001b[0m: name 'X' is not defined"
          ]
        }
      ]
    },
    {
      "cell_type": "markdown",
      "metadata": {
        "id": "mXo3An2q3k3P",
        "colab_type": "text"
      },
      "source": [
        "우리가 이미 본 데이터를 예측하려고 했기 때문에, 그 점수는 가능한 한 최고였는데, 그것은 놀라운 일이 아니다! 나중에 우리는 데이터를 두 부분으로 나눌 것이다: 하나는 모델을 배우는 것이고 다른 하나는 예측 기술을 시험하는 것이다."
      ]
    },
    {
      "cell_type": "markdown",
      "metadata": {
        "id": "cL3VJxiu3k3P",
        "colab_type": "text"
      },
      "source": [
        "### Another example"
      ]
    },
    {
      "cell_type": "markdown",
      "metadata": {
        "id": "cZ6JrBqe3k3P",
        "colab_type": "text"
      },
      "source": [
        "Let's generate some more data using multivariate normal distributions."
      ]
    },
    {
      "cell_type": "code",
      "metadata": {
        "id": "KsFXFPW03k3Q",
        "colab_type": "code",
        "colab": {}
      },
      "source": [
        "cov=np.array([[ 4.68, -4.32],\n",
        " [-4.32,  4.68]])\n",
        "mean1 = [0,0]\n",
        "mean2 = [0,4]\n",
        "n=500\n",
        "x1 = np.random.multivariate_normal(mean1, cov, n).T\n",
        "x2 = np.random.multivariate_normal(mean2, cov, n).T\n",
        "X=np.vstack([x1.T,x2.T])\n",
        "y=np.hstack([[0]*n, [1]*n]).T\n",
        "plt.scatter(X[:n,0], X[:n,1], color=\"red\", label=0)\n",
        "plt.scatter(X[n:,0], X[n:,1], color=\"blue\", label=1)\n",
        "plt.legend();"
      ],
      "execution_count": 0,
      "outputs": []
    },
    {
      "cell_type": "markdown",
      "metadata": {
        "id": "Kj53_o1e3k3S",
        "colab_type": "text"
      },
      "source": [
        "The two clusters seem to be quite separate. Let's try naive Bayesian classification on this data."
      ]
    },
    {
      "cell_type": "code",
      "metadata": {
        "id": "p0Akr-_g3k3S",
        "colab_type": "code",
        "colab": {}
      },
      "source": [
        "model = GaussianNB()\n",
        "#model = MultinomialNB()\n",
        "model.fit(X, y);"
      ],
      "execution_count": 0,
      "outputs": []
    },
    {
      "cell_type": "code",
      "metadata": {
        "id": "hlDXRP013k3W",
        "colab_type": "code",
        "colab": {}
      },
      "source": [
        "print(\"Means:\", model.theta_)\n",
        "print(\"Standard deviations:\", model.sigma_)"
      ],
      "execution_count": 0,
      "outputs": []
    },
    {
      "cell_type": "code",
      "metadata": {
        "id": "u-iiTF7d3k3Y",
        "colab_type": "code",
        "colab": {}
      },
      "source": [
        "y_fitted = model.predict(X)\n",
        "colors=np.array([\"red\", \"blue\"])\n",
        "plt.scatter(X[:,0], X[:,1], color=colors[y_fitted])\n",
        "plt.scatter([], [], color=\"red\", label=\"0\")\n",
        "plt.scatter([], [], color=\"blue\", label=\"1\")\n",
        "from sklearn.metrics import accuracy_score\n",
        "acc=accuracy_score(y,y_fitted)\n",
        "plt.legend()\n",
        "print(\"Accuracy score is\", acc)"
      ],
      "execution_count": 0,
      "outputs": []
    },
    {
      "cell_type": "markdown",
      "metadata": {
        "id": "i3IPAnpE3k3Z",
        "colab_type": "text"
      },
      "source": [
        "Even thought the score is quite good, we can see from the plot that the algorithm didn't have good models for the data. We can plot the models the algorithm used:"
      ]
    },
    {
      "cell_type": "code",
      "metadata": {
        "id": "13TtFzOg3k3a",
        "colab_type": "code",
        "colab": {}
      },
      "source": [
        "plt.figure()\n",
        "plt.xlim(-10, 10)\n",
        "plt.ylim(-15, 10)\n",
        "e1=plot_ellipse(plt.gca(), model.theta_[0], np.identity(2)*model.sigma_[0], color=\"red\", label=\"0\")\n",
        "e2=plot_ellipse(plt.gca(), model.theta_[1], np.identity(2)*model.sigma_[1], color=\"blue\", label=\"1\")\n",
        "plt.legend([e1, e2], [\"0\", \"1\"]);"
      ],
      "execution_count": 0,
      "outputs": []
    },
    {
      "cell_type": "markdown",
      "metadata": {
        "id": "Om4xfHJb3k3c",
        "colab_type": "text"
      },
      "source": [
        "The problem with naive Bayesian classification is that it tries to model the data using Gaussian distributions, which are aligned along the x and y axes. With this example data we would have needed Gaussian distributions which are \"tilted\"."
      ]
    },
    {
      "cell_type": "markdown",
      "metadata": {
        "id": "9aHPLOgn3k3c",
        "colab_type": "text"
      },
      "source": [
        "### Text classification"
      ]
    },
    {
      "cell_type": "markdown",
      "metadata": {
        "id": "e0PY2Njg3k3d",
        "colab_type": "text"
      },
      "source": [
        "우리는 다음 공개 포럼에 게시된 메시지 세트를 분류하려고 노력한다. 메시지는 주제별로 그룹으로 나뉘었다. 그래서 분류 테스트를 위한 데이터 세트를 준비했다. 먼저 이 데이터를 스키킷 학습을 사용하여 로드하고 메시지 범주를 인쇄합니다.\n"
      ]
    },
    {
      "cell_type": "code",
      "metadata": {
        "id": "UN41kLb73k3d",
        "colab_type": "code",
        "colab": {
          "base_uri": "https://localhost:8080/",
          "height": 357
        },
        "outputId": "7d4dfc05-8f03-4f24-bb24-df753412f3fc"
      },
      "source": [
        "from sklearn.datasets import fetch_20newsgroups\n",
        "data = fetch_20newsgroups()\n",
        "data.target_names"
      ],
      "execution_count": 18,
      "outputs": [
        {
          "output_type": "execute_result",
          "data": {
            "text/plain": [
              "['alt.atheism',\n",
              " 'comp.graphics',\n",
              " 'comp.os.ms-windows.misc',\n",
              " 'comp.sys.ibm.pc.hardware',\n",
              " 'comp.sys.mac.hardware',\n",
              " 'comp.windows.x',\n",
              " 'misc.forsale',\n",
              " 'rec.autos',\n",
              " 'rec.motorcycles',\n",
              " 'rec.sport.baseball',\n",
              " 'rec.sport.hockey',\n",
              " 'sci.crypt',\n",
              " 'sci.electronics',\n",
              " 'sci.med',\n",
              " 'sci.space',\n",
              " 'soc.religion.christian',\n",
              " 'talk.politics.guns',\n",
              " 'talk.politics.mideast',\n",
              " 'talk.politics.misc',\n",
              " 'talk.religion.misc']"
            ]
          },
          "metadata": {
            "tags": []
          },
          "execution_count": 18
        }
      ]
    },
    {
      "cell_type": "markdown",
      "metadata": {
        "id": "MXQNTivr3k3g",
        "colab_type": "text"
      },
      "source": [
        "We concentrate on four message categories only. The tool `fetch_20newsgroups` allows us to easily split the data into training and testing data."
      ]
    },
    {
      "cell_type": "code",
      "metadata": {
        "id": "vp3tiLu23k3g",
        "colab_type": "code",
        "colab": {}
      },
      "source": [
        "categories = ['comp.graphics', 'rec.autos', 'sci.electronics', 'sci.crypt']\n",
        "train = fetch_20newsgroups(subset='train', categories=categories)\n",
        "test = fetch_20newsgroups(subset='test', categories=categories)"
      ],
      "execution_count": 0,
      "outputs": []
    },
    {
      "cell_type": "markdown",
      "metadata": {
        "id": "vAluSR7N3k3j",
        "colab_type": "text"
      },
      "source": [
        "Let's see what we got:"
      ]
    },
    {
      "cell_type": "code",
      "metadata": {
        "id": "FTKF66fM3k3j",
        "colab_type": "code",
        "colab": {
          "base_uri": "https://localhost:8080/",
          "height": 51
        },
        "outputId": "05cf7456-6e24-4e1b-c5d1-1bb17e2bb720"
      },
      "source": [
        "print(\"Training data:\", \"Data:\", str(type(train.data)), len(train.data), \"Target:\", str(type(train.target)), len(train.target))\n",
        "print(\"Test data:\", \"Data:\", str(type(test.data)), len(test.data), \"Target\", str(type(test.data)), len(test.target))"
      ],
      "execution_count": 20,
      "outputs": [
        {
          "output_type": "stream",
          "text": [
            "Training data: Data: <class 'list'> 2364 Target: <class 'numpy.ndarray'> 2364\n",
            "Test data: Data: <class 'list'> 1574 Target <class 'list'> 1574\n"
          ],
          "name": "stdout"
        }
      ]
    },
    {
      "cell_type": "markdown",
      "metadata": {
        "id": "MaJaERln3k3l",
        "colab_type": "text"
      },
      "source": [
        "데이터 세트에서 각 단어의 빈도를 기능으로 사용합니다. 즉, 데이터 세트에 별개의 단어가있는 것보다 많은 기능이 있습니다. 기능 수는 $ f $로 나타냅니다. 기능이 이제 계산되었으므로 가우스 대신 다항 분포를 사용하는 것이 합리적입니다.\n",
        "\n",
        "다항 분포를 사용하여 이러한 메시지를 모델링 해 봅시다. 각 메시지 범주에는 고유 한 배포가 있습니다. 다항 분포에는 음수가 아닌 $ f $ 매개 변수 $ \\ theta_1, \\ ldots, \\ theta_f $가 있습니다. 예를 들어, 매개 변수 $ \\ theta_3 $는이 배포판이 설명하는 범주의 메시지에 \"board\"라는 단어가 나타날 확률을 알려줍니다.\n",
        "\n",
        "scikit-learn에는 텍스트 문자열 형태의 메시지를 특징 벡터로 변환하는 클래스 'CountVectorizer'가 있습니다. 이 변환을 사용중인 모델 (다항식 순진 베이)과 통합하여 '적합'방법의 일부로 변환이 자동으로 수행되도록 할 수 있습니다. `make_pipeline` 툴을 사용하여이 통합을 달성합니다."
      ]
    },
    {
      "cell_type": "code",
      "metadata": {
        "id": "YQaunNIL3k3l",
        "colab_type": "code",
        "colab": {
          "base_uri": "https://localhost:8080/",
          "height": 34
        },
        "outputId": "8db3fe78-c3c7-4a42-a0d8-018a447de70c"
      },
      "source": [
        "#from sklearn.feature_extraction.text import TfidfVectorizer  # an alternative feature extractor\n",
        "from sklearn.feature_extraction.text import CountVectorizer\n",
        "from sklearn.naive_bayes import MultinomialNB\n",
        "from sklearn.pipeline import make_pipeline\n",
        "\n",
        "#model = make_pipeline(TfidfVectorizer(), MultinomialNB())\n",
        "model = make_pipeline(CountVectorizer(), MultinomialNB())\n",
        "model.fit(train.data, train.target)\n",
        "labels_fitted = model.predict(test.data)\n",
        "print(\"Accuracy score is\", accuracy_score(labels_fitted, test.target))"
      ],
      "execution_count": 21,
      "outputs": [
        {
          "output_type": "stream",
          "text": [
            "Accuracy score is 0.920584498094028\n"
          ],
          "name": "stdout"
        }
      ]
    },
    {
      "cell_type": "markdown",
      "metadata": {
        "id": "zW1dKFLx3k3n",
        "colab_type": "text"
      },
      "source": [
        "The classifier seem to work quite well! Notice that now we used separate data for testing the model.\n",
        "\n",
        "Let's have a closer look at the resulting feature vectors."
      ]
    },
    {
      "cell_type": "code",
      "metadata": {
        "id": "fcw7T2TQ3k3o",
        "colab_type": "code",
        "colab": {
          "base_uri": "https://localhost:8080/",
          "height": 901
        },
        "outputId": "c70c2809-f385-410c-d8fe-68465186968c"
      },
      "source": [
        "vec=CountVectorizer()\n",
        "features=vec.fit_transform(train.data)\n",
        "print(\"Type of feature matrix:\", type(features))\n",
        "print(features[0,:])        # print the features of the first sample point"
      ],
      "execution_count": 22,
      "outputs": [
        {
          "output_type": "stream",
          "text": [
            "Type of feature matrix: <class 'scipy.sparse.csr.csr_matrix'>\n",
            "  (0, 15373)\t1\n",
            "  (0, 18962)\t3\n",
            "  (0, 21852)\t5\n",
            "  (0, 9553)\t4\n",
            "  (0, 34790)\t6\n",
            "  (0, 13317)\t6\n",
            "  (0, 19099)\t1\n",
            "  (0, 16034)\t1\n",
            "  (0, 30377)\t1\n",
            "  (0, 26624)\t1\n",
            "  (0, 23858)\t1\n",
            "  (0, 20509)\t1\n",
            "  (0, 15109)\t2\n",
            "  (0, 11079)\t1\n",
            "  (0, 23854)\t2\n",
            "  (0, 32729)\t1\n",
            "  (0, 20381)\t1\n",
            "  (0, 2100)\t1\n",
            "  (0, 12580)\t1\n",
            "  (0, 18085)\t1\n",
            "  (0, 27158)\t1\n",
            "  (0, 31686)\t6\n",
            "  (0, 23118)\t1\n",
            "  (0, 25400)\t1\n",
            "  (0, 17310)\t1\n",
            "  :\t:\n",
            "  (0, 11100)\t1\n",
            "  (0, 27521)\t1\n",
            "  (0, 29104)\t1\n",
            "  (0, 5980)\t1\n",
            "  (0, 30641)\t1\n",
            "  (0, 27517)\t1\n",
            "  (0, 12577)\t1\n",
            "  (0, 25336)\t1\n",
            "  (0, 24025)\t1\n",
            "  (0, 18436)\t1\n",
            "  (0, 29505)\t1\n",
            "  (0, 29494)\t1\n",
            "  (0, 11068)\t1\n",
            "  (0, 21787)\t1\n",
            "  (0, 23460)\t1\n",
            "  (0, 34425)\t1\n",
            "  (0, 16809)\t1\n",
            "  (0, 17883)\t1\n",
            "  (0, 31398)\t1\n",
            "  (0, 34222)\t1\n",
            "  (0, 25926)\t1\n",
            "  (0, 6320)\t1\n",
            "  (0, 29697)\t1\n",
            "  (0, 19220)\t1\n",
            "  (0, 20579)\t1\n"
          ],
          "name": "stdout"
        }
      ]
    },
    {
      "cell_type": "markdown",
      "metadata": {
        "id": "96rLo43a3k3p",
        "colab_type": "text"
      },
      "source": [
        "The feature matrix is stored in sparse format, that is, only the nonzero counts are stored. How many words were in the first message?"
      ]
    },
    {
      "cell_type": "code",
      "metadata": {
        "id": "kK8qEWb-3k3q",
        "colab_type": "code",
        "colab": {
          "base_uri": "https://localhost:8080/",
          "height": 595
        },
        "outputId": "c101f8bf-0f3a-4dd0-e44a-69a808446761"
      },
      "source": [
        "print(\"Number of words:\", features[0,:].sum())\n",
        "col = vec.vocabulary_[\"it\"]   # Get the column of 'it' word in the feature matrix\n",
        "print(f\"Word 'it' appears in the first message {features[0, col]} times.\")\n",
        "print()\n",
        "print(train.data[0])   # Let's print the corresponding message as well\n",
        "#print(vec.get_feature_names())"
      ],
      "execution_count": 23,
      "outputs": [
        {
          "output_type": "stream",
          "text": [
            "Number of words: 177\n",
            "Word 'it' appears in the first message 2 times.\n",
            "\n",
            "From: jgfoot@minerva.cis.yale.edu (Josh A. Goldfoot)\n",
            "Subject: Re: Organized Lobbying for Cryptography\n",
            "Organization: Yale University\n",
            "Lines: 21\n",
            "Distribution: inet\n",
            "Reply-To: jgfoot@minerva.cis.yale.edu\n",
            "NNTP-Posting-Host: minerva.cis.yale.edu\n",
            "X-Newsreader: TIN [version 1.1 Minerva PL9]\n",
            "\n",
            "Shaun P. Hughes (sphughes@sfsuvax1.sfsu.edu) wrote:\n",
            ": In article <1r3jgbINN35i@eli.CS.YALE.EDU> jgfoot@minerva.cis.yale.edu writes:\n",
            "[deletion]\n",
            ": >Perhaps these encryption-only types would defend the digitized porn if it\n",
            ": >was posted encrypted?\n",
            ": >\n",
            ": >These issues are not as seperable as you maintain.\n",
            ": >\n",
            "\n",
            ": Now why would anyone \"post\" anything encrypted? Encryption is only of \n",
            ": use between persons who know how to decrypt the data.\n",
            "\n",
            ": And why should I care what other people look at? \n",
            "\n",
            "I was responding to another person (Tarl Neustaedter) who held that the\n",
            "EFF wasn't the best organization to fight for crytography rights since the\n",
            "EFF also supports the right to distribute pornography over the internet,\n",
            "something some Crypto people might object to. In other words, he's\n",
            "implying that there are people who will protect any speech, just  as long\n",
            "as it is encrypted.\n",
            "\n",
            "\n"
          ],
          "name": "stdout"
        }
      ]
    },
    {
      "cell_type": "markdown",
      "metadata": {
        "id": "7j4o1tA-3k3r",
        "colab_type": "text"
      },
      "source": [
        "#### <div class=\"alert alert-info\">Exercise 1 (blob classification)</div>\n",
        "\n",
        "Write function `blob_classification` that gets feature matrix X and label vector y as parameters. It should then return the accuracy score of the prediction. Do the prediction using `GaussianNB`, and use `train_test_split` function from `sklearn` to split the dataset in to two parts: one for training and one for testing. Give parameter `random_state=0` to the splitting function so that the result is deterministic. Use training set size of 75% of the whole data.\n",
        "<hr/>"
      ]
    },
    {
      "cell_type": "markdown",
      "metadata": {
        "id": "DAQ4UhaB3k3s",
        "colab_type": "text"
      },
      "source": [
        "#### <div class=\"alert alert-info\">Exercise 2 (plant classification)</div>\n",
        "\n",
        "Write function `plant_classification` that does the following:\n",
        "\n",
        "* loads the iris dataset using sklearn (`sklearn.datasets.load_iris`)\n",
        "* splits the data into training and testing part using the `train_test_split` function so that the training set size is 80% of the whole data (give the call also the `random_state=0` argument to make the result deterministic)\n",
        "* use Gaussian naive Bayes to fit the training data\n",
        "* predict labels of the test data\n",
        "* the function should return the accuracy score of the prediction performance (`sklearn.metrics.accuracy_score`)\n",
        "<hr/>"
      ]
    },
    {
      "cell_type": "markdown",
      "metadata": {
        "id": "SxdIoFfM3k3s",
        "colab_type": "text"
      },
      "source": [
        "#### <div class=\"alert alert-info\">Exercise 3 (word classification)</div>\n",
        "\n",
        "This exercise can give four points at maximum!\n",
        "\n",
        "In this exercise we create a model that tries to label previously unseen words to be either Finnish or English.\n",
        "\n",
        "Part 1.\n",
        "\n",
        "Write function `get_features` that gets a one dimensional np.array, containing words, as parameter. It should return a feature matrix of shape (n, 29), where n is the number of elements of the input array. There should be one feature for each of the letters in the following alphabet: \"abcdefghijklmnopqrstuvwxyzäö-\". The values should be the number of times the corresponding character appears in the word.\n",
        "\n",
        "Part 2.\n",
        "\n",
        "Write function `contains_valid_chars` that takes a string as a parameter and returns the truth value of whether all the characters in the string belong to the alphabet or not.\n",
        "\n",
        "Part 3.\n",
        "\n",
        "Write function `get_features_and_labels` that returns the tuple (X, y) of the feature matrix and the target vector. Use the labels 0 and 1 for Finnish and English, respectively. Use the supplied functions load_finnish() and load_english() to get the lists of words. Filter the lists in the following ways:\n",
        "\n",
        "* Convert the Finnish words to lowercase, and then filter out those words that contain characters that don't belong to the alphabet.\n",
        "* For the English words first filter out those words that begin with an uppercase letter to get rid of proper nouns. Then proceed as with the Finnish words.\n",
        "\n",
        "Use get_features function you made earlier to form the feature matrix.\n",
        "\n",
        "Part 4.\n",
        "\n",
        "We have earlier seen examples where we split the data into learning part and testing part. This way we can test whether the model can really be used to predict unseen data. However, it can be that we had bad luck and the split produced very biased learning and test datas. To counter this, we can perform the split several times and take as the final result the average from the different splits. This is called [cross validation](<https://en.wikipedia.org/wiki/Cross-validation_(statistics)>).\n",
        "\n",
        "Create `word_classification` function that does the following:\n",
        "\n",
        "Use the function `get_features_and_labels` you made earlier to get the feature matrix and the labels. Use multinomial naive Bayes to do the classification. Get the accuracy scores using the `sklearn.model_selection.cross_val_score` function; use 5-fold cross validation. The function should return a list of five accuracy scores.\n",
        "\n",
        "The cv parameter of `cross_val_score` can be either an integer, which specifies the number of folds, or it can be a *cross-validation generator* that generates the (train set,test set) pairs. What happens if you pass the following cross-validation generator to `cross_val_score` as a parameter: `sklearn.model_selection.KFold(n_splits=5, shuffle=True, random_state=0)`.\n",
        "\n",
        "Why the difference?\n",
        "<hr/>"
      ]
    },
    {
      "cell_type": "markdown",
      "metadata": {
        "id": "So8CEGM23k3s",
        "colab_type": "text"
      },
      "source": [
        "#### <div class=\"alert alert-info\">Exercise 4 (spam detection)</div>\n",
        "\n",
        "This exercise gives two points if solved correctly!\n",
        "\n",
        "In the `src` folder there are two files: `ham.txt.gz` and `spam.txt.gz`. The files are preprocessed versions of the files from https://spamassassin.apache.org/old/publiccorpus/. There is one email per line. The file `ham.txt.gz` contains emails that are non-spam, and, conversely, emails in file `spam.txt` are spam. The email headers have been removed, except for the subject line, and non-ascii characters have been deleted.\n",
        "\n",
        "Write function `spam_detection` that does the following:\n",
        "\n",
        "* Read the lines from these files into arrays. Use function `open` from `gzip` module, since the files are compressed. From each file take only `fraction` of lines from the start of the file, where `fraction` is a parameter to `spam_detection`, and should be in the range `[0.0, 1.0]`.\n",
        "* forms the combined feature matrix using `CountVectorizer` class' `fit_transform` method. The feature matrix should first have the rows for the `ham` dataset and then the rows for the `spam` dataset. One row in the feature matrix corresponds to one email.\n",
        "* use labels 0 for ham and 1 for spam\n",
        "* divide that feature matrix and the target label into training and test sets, using `train_test_split`. Use 75% of the data for training. Pass the random_state parameter from `spam_detection` to `train_test_split`.\n",
        "* train a `MultinomialNB` model, and use it to predict the labels for the test set\n",
        "\n",
        "The function should return a triple consisting of\n",
        "\n",
        "* accuracy score of the prediction\n",
        "* size of test sample\n",
        "* number of misclassified sample points\n",
        "\n",
        "Note. The tests use the `fraction` parameter with value 0.1 to ease to load on the TMC server. If full data were used and the solution did something non-optimal, it could use huge amounts of memory, causing the solution to fail.\n",
        "<hr/>"
      ]
    },
    {
      "cell_type": "markdown",
      "metadata": {
        "id": "HmhzZ-3l3k3t",
        "colab_type": "text"
      },
      "source": [
        "<!--NAVIGATION-->\n",
        "\n",
        "\n",
        "<a href=\"https://colab.research.google.com/github/saskeli/x/blob/master/bayes.ipynb\"><img align=\"left\" src=\"https://colab.research.google.com/assets/colab-badge.svg\" alt=\"Open in Colab\" title=\"Open and Execute in Google Colaboratory\"></a>\n"
      ]
    }
  ]
}